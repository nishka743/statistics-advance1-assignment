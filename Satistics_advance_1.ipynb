{
  "nbformat": 4,
  "nbformat_minor": 0,
  "metadata": {
    "colab": {
      "private_outputs": true,
      "provenance": []
    },
    "kernelspec": {
      "name": "python3",
      "display_name": "Python 3"
    },
    "language_info": {
      "name": "python"
    }
  },
  "cells": [
    {
      "cell_type": "markdown",
      "source": [
        "# Theory Questions"
      ],
      "metadata": {
        "id": "MVR4HyKnUxnp"
      }
    },
    {
      "cell_type": "markdown",
      "source": [
        "1. What is a random variable in probability theory?\n",
        " - A random variable is a function that assigns numerical values to the outcomes of a random experiment.\n",
        "Example: Tossing a die → Random variable X = number showing up (1 to 6)."
      ],
      "metadata": {
        "id": "e0sEFhs5U6Wj"
      }
    },
    {
      "cell_type": "markdown",
      "source": [
        "2. What are the types of random variables?\n",
        "-  Discrete – Takes countable values (e.g., number of heads in 5 coin tosses).\n",
        " Continuous – Takes any value within a range (e.g., height, weight, temperature)."
      ],
      "metadata": {
        "id": "B5awIyuMVDct"
      }
    },
    {
      "cell_type": "markdown",
      "source": [
        "3. What is the difference between discrete and continuous distributions?\n",
        "- Discrete Distribution: Probability is assigned to exact values.\n",
        "Continuous Distribution: Probability is described over intervals using a density function; individual values have zero probability."
      ],
      "metadata": {
        "id": "GiYXqIijVQVL"
      }
    },
    {
      "cell_type": "markdown",
      "source": [
        "4. What are probability distribution functions (PDF)?\n",
        "- For discrete variables: PDF = Probability Mass Function (PMF), gives P(X = x).\n",
        "For continuous variables: PDF is a curve showing the relative likelihood of values; area under the curve gives probabilities."
      ],
      "metadata": {
        "id": "SCK0uJ3pVjXY"
      }
    },
    {
      "cell_type": "markdown",
      "source": [
        "5. How do cumulative distribution functions (CDF) differ from PDFs?\n",
        "- CDF gives the probability that a random variable is less than or equal to a value: P(X ≤ x).\n",
        "It is the integral (area under curve) of a PDF in continuous cases.\n",
        "\n"
      ],
      "metadata": {
        "id": "69Gt1rzjWPC_"
      }
    },
    {
      "cell_type": "markdown",
      "source": [
        "6. What is a discrete uniform distribution?\n",
        "- All outcomes are equally likely.\n",
        "Example: Fair die → P(X = x) = 1/6 for x = 1 to 6."
      ],
      "metadata": {
        "id": "zIToNeRrWXVy"
      }
    },
    {
      "cell_type": "markdown",
      "source": [
        "7. What are the key properties of a Bernoulli distribution?\n",
        "\n",
        "- Two outcomes: success (1) and failure (0).\n",
        "One trial only.\n",
        "Mean = p, Variance = p(1 – p)."
      ],
      "metadata": {
        "id": "h7siCiBnWnHD"
      }
    },
    {
      "cell_type": "markdown",
      "source": [
        "8. What is the binomial distribution, and how is it used in probability?\n",
        "\n",
        "- Describes number of successes in n independent Bernoulli trials.\n",
        "\n",
        "  Parameters: n (trials), p (success probability).\n",
        "\n",
        "  Used in scenarios like \"What’s the probability of getting 3 heads in 5 coin tosses?\""
      ],
      "metadata": {
        "id": "D2I3r_hXqCgU"
      }
    },
    {
      "cell_type": "markdown",
      "source": [
        "9.  What is the Poisson distribution and where is it applied?\n",
        "\n",
        "- Models the number of events occurring in a fixed interval (time, space) when events happen independently.\n",
        "Example: Number of calls at a call center per hour.\n",
        "\n"
      ],
      "metadata": {
        "id": "Kkg6SicIqSJt"
      }
    },
    {
      "cell_type": "markdown",
      "source": [
        "10.  What is a continuous uniform distribution?\n",
        "\n",
        "- Every outcome in an interval [a, b] is equally likely.\n",
        "PDF = 1 / (b - a)."
      ],
      "metadata": {
        "id": "XujTfaU8qa2H"
      }
    },
    {
      "cell_type": "markdown",
      "source": [
        "11. What are the characteristics of a normal distribution?\n",
        "\n",
        "- Bell-shaped, symmetric around the mean.\n",
        "\n",
        "  Defined by mean (μ) and standard deviation (σ).\n",
        "\n",
        "  Follows empirical rule:\n",
        "\n",
        "   68% within 1σ,\n",
        "\n",
        "   95% within 2σ,\n",
        "\n",
        "  99.7% within 3σ."
      ],
      "metadata": {
        "id": "asRSj5dhq4Zp"
      }
    },
    {
      "cell_type": "markdown",
      "source": [
        "12.  What is the standard normal distribution, and why is it important?\n",
        "\n",
        "- A normal distribution with μ = 0, σ = 1.\n",
        "\n",
        "   Used to compute Z-scores and compare across different distributions.\n",
        "\n"
      ],
      "metadata": {
        "id": "bSwjrOgmrEPI"
      }
    },
    {
      "cell_type": "markdown",
      "source": [
        "13.  What is the Central Limit Theorem (CLT), and why is it critical in statistics?\n",
        "- For large n, the sampling distribution of the sample mean approaches a normal distribution, regardless of the original population distribution.\n",
        "Enables inference using the normal model."
      ],
      "metadata": {
        "id": "uGt5C6q-robq"
      }
    },
    {
      "cell_type": "markdown",
      "source": [
        "14. How does the Central Limit Theorem relate to the normal distribution?\n",
        "- It justifies using the normal distribution for hypothesis testing and confidence intervals when sample sizes are large."
      ],
      "metadata": {
        "id": "ZrC-AifKrwNy"
      }
    },
    {
      "cell_type": "markdown",
      "source": [
        "15.  What is the application of Z statistics in hypothesis testing?\n",
        "- Used to compare sample data to population parameters.\n",
        "  Helps determine how extreme a sample result is under the null hypothesis.-"
      ],
      "metadata": {
        "id": "bEw36DmusA0h"
      }
    },
    {
      "cell_type": "markdown",
      "source": [
        "16.  How do you calculate a Z-score, and what does it represent?\n",
        "\n",
        "- Formula: Z = (X - μ) / σ\n",
        "It tells how many standard deviations a value X is from the mean μ."
      ],
      "metadata": {
        "id": "cv7kPN7xsKK0"
      }
    },
    {
      "cell_type": "markdown",
      "source": [
        "17. What are point estimates and interval estimates in statistics?\n",
        "\n",
        "- Point estimate: A single best guess (e.g., sample mean).\n",
        "Interval estimate: A range (like a confidence interval) where the true parameter likely lies."
      ],
      "metadata": {
        "id": "C8dtdJFUscrw"
      }
    },
    {
      "cell_type": "markdown",
      "source": [
        "18. What is the significance of confidence intervals in statistical analysis?\n",
        "\n",
        "- Express uncertainty in estimates.\n",
        "Example: A 95% CI means if we repeated the study, 95% of such intervals would contain the true value."
      ],
      "metadata": {
        "id": "QglfDSKbskrU"
      }
    },
    {
      "cell_type": "markdown",
      "source": [
        "19.  How are Z-scores used to compare different distributions?\n",
        "\n",
        "- Convert values from different distributions to a standard normal scale, allowing for direct comparison."
      ],
      "metadata": {
        "id": "QTc9Tjezs0Vi"
      }
    },
    {
      "cell_type": "markdown",
      "source": [
        "20. What are the assumptions for applying the Central Limit Theorem?\n",
        "\n",
        "     Independence of samples.\n",
        "\n",
        "    Identically distributed variables.\n",
        "\n",
        "     Large enough sample size (n ≥ 30 is a rule of thumb, more if skewed)."
      ],
      "metadata": {
        "id": "cMAua002tYpX"
      }
    },
    {
      "cell_type": "markdown",
      "source": [
        "21. What is the concept of expected value in a probability distribution?\n",
        "\n",
        "Weighted average of all possible values of a random variable.\n",
        "Formula: E(X) = Σ [x × P(x)] for discrete; E(X) = ∫ x·f(x) dx for continuous."
      ],
      "metadata": {
        "id": "gamdz21Wtkx9"
      }
    },
    {
      "cell_type": "markdown",
      "source": [
        "22.  How does a probability distribution relate to the expected outcome of a random variable?\n",
        "\n",
        "The shape and probabilities in a distribution determine the expected (mean) value of the random variable.\n",
        "\n"
      ],
      "metadata": {
        "id": "LtfoLyIFtr3M"
      }
    },
    {
      "cell_type": "markdown",
      "source": [
        "# Practical Questions"
      ],
      "metadata": {
        "id": "YNuz1T2DuDQ_"
      }
    },
    {
      "cell_type": "markdown",
      "source": [
        "1. Generate a random variable and display its value"
      ],
      "metadata": {
        "id": "CWCFIJ6tuIgN"
      }
    },
    {
      "cell_type": "code",
      "source": [
        "import random\n",
        "\n",
        "# Generate a random variable (example: integer from 1 to 6)\n",
        "random_var = random.randint(1, 6)\n",
        "print(f\"Random variable value: {random_var}\")\n"
      ],
      "metadata": {
        "id": "J9ji3fjBuOR-"
      },
      "execution_count": null,
      "outputs": []
    },
    {
      "cell_type": "markdown",
      "source": [
        "2. Discrete uniform distribution and plot PMF"
      ],
      "metadata": {
        "id": "k2nwoT7VuU11"
      }
    },
    {
      "cell_type": "code",
      "source": [
        "import numpy as np\n",
        "import matplotlib.pyplot as plt\n",
        "\n",
        "# Discrete uniform distribution from 1 to 6\n",
        "values = np.arange(1, 7)\n",
        "probabilities = np.full_like(values, 1/len(values), dtype=np.float64)\n",
        "\n",
        "# Plot PMF\n",
        "plt.stem(values, probabilities)\n",
        "plt.title(\"PMF of Discrete Uniform Distribution (1-6)\")\n",
        "plt.xlabel(\"Value\")\n",
        "plt.ylabel(\"Probability\")\n",
        "plt.grid(True)\n",
        "plt.show()"
      ],
      "metadata": {
        "id": "Zh7rY0A2utFi"
      },
      "execution_count": null,
      "outputs": []
    },
    {
      "cell_type": "markdown",
      "source": [
        "3.  PDF of a Bernoulli distribution"
      ],
      "metadata": {
        "id": "9Mho9FYfu7-m"
      }
    },
    {
      "cell_type": "code",
      "source": [
        "def bernoulli_pdf(x, p):\n",
        "    if x == 0:\n",
        "        return 1 - p\n",
        "    elif x == 1:\n",
        "        return p\n",
        "    else:\n",
        "        return 0\n",
        "\n",
        "# Example usage\n",
        "print(f\"P(X=0): {bernoulli_pdf(0, 0.3)}\")\n",
        "print(f\"P(X=1): {bernoulli_pdf(1, 0.3)}\")\n"
      ],
      "metadata": {
        "id": "zxCA9oGcvAtj"
      },
      "execution_count": null,
      "outputs": []
    },
    {
      "cell_type": "markdown",
      "source": [
        "4. Simulate binomial distribution (n=10, p=0.5) and plot"
      ],
      "metadata": {
        "id": "qFU1E63xvD0j"
      }
    },
    {
      "cell_type": "code",
      "source": [
        "from numpy.random import binomial\n",
        "import matplotlib.pyplot as plt\n",
        "\n",
        "n, p = 10, 0.5\n",
        "samples = binomial(n, p, size=1000)\n",
        "\n",
        "plt.hist(samples, bins=np.arange(n+2)-0.5, density=True, edgecolor='black')\n",
        "plt.title(\"Binomial Distribution (n=10, p=0.5)\")\n",
        "plt.xlabel(\"Number of successes\")\n",
        "plt.ylabel(\"Frequency\")\n",
        "plt.grid(True)\n",
        "plt.show()\n"
      ],
      "metadata": {
        "id": "NxaiOcvrvODy"
      },
      "execution_count": null,
      "outputs": []
    },
    {
      "cell_type": "markdown",
      "source": [
        "5. Create and visualize a Poisson distribution"
      ],
      "metadata": {
        "id": "V3D8_8ssvS5f"
      }
    },
    {
      "cell_type": "code",
      "source": [
        "from scipy.stats import poisson\n",
        "import matplotlib.pyplot as plt\n",
        "import numpy as np\n",
        "\n",
        "mu = 3\n",
        "x = np.arange(0, 15)\n",
        "pmf = poisson.pmf(x, mu)\n",
        "\n",
        "plt.stem(x, pmf)\n",
        "plt.title(\"Poisson Distribution (μ=3)\")\n",
        "plt.xlabel(\"k\")\n",
        "plt.ylabel(\"P(X=k)\")\n",
        "plt.grid(True)\n",
        "plt.show()"
      ],
      "metadata": {
        "id": "X2n8BGFRvY0b"
      },
      "execution_count": null,
      "outputs": []
    },
    {
      "cell_type": "markdown",
      "source": [
        "6. Calculate and plot CDF of discrete uniform distribution"
      ],
      "metadata": {
        "id": "wnuy7Wwavgl1"
      }
    },
    {
      "cell_type": "code",
      "source": [
        "from scipy.stats import randint\n",
        "\n",
        "a, b = 1, 6\n",
        "x = np.arange(a, b+1)\n",
        "cdf = randint.cdf(x, a, b+1)\n",
        "\n",
        "plt.step(x, cdf, where='mid')\n",
        "plt.title(\"CDF of Discrete Uniform Distribution (1-6)\")\n",
        "plt.xlabel(\"Value\")\n",
        "plt.ylabel(\"Cumulative Probability\")\n",
        "plt.grid(True)\n",
        "plt.show()\n"
      ],
      "metadata": {
        "id": "VZRTMLHvvkyD"
      },
      "execution_count": null,
      "outputs": []
    },
    {
      "cell_type": "markdown",
      "source": [
        "7. Generate a continuous uniform distribution and visualize it"
      ],
      "metadata": {
        "id": "DFJjsCNdvrzY"
      }
    },
    {
      "cell_type": "code",
      "source": [
        "from scipy.stats import uniform\n",
        "\n",
        "a, b = 0, 10\n",
        "x = np.linspace(a, b, 1000)\n",
        "pdf = uniform.pdf(x, loc=a, scale=b-a)\n",
        "\n",
        "plt.plot(x, pdf)\n",
        "plt.title(\"PDF of Continuous Uniform Distribution (0-10)\")\n",
        "plt.xlabel(\"x\")\n",
        "plt.ylabel(\"Density\")\n",
        "plt.grid(True)\n",
        "plt.show()\n"
      ],
      "metadata": {
        "id": "3NMi30x2vv6M"
      },
      "execution_count": null,
      "outputs": []
    },
    {
      "cell_type": "markdown",
      "source": [
        "8. Simulate normal distribution and plot histogram"
      ],
      "metadata": {
        "id": "slfN0bhUv19n"
      }
    },
    {
      "cell_type": "code",
      "source": [
        "mu, sigma = 0, 1\n",
        "samples = np.random.normal(mu, sigma, 1000)\n",
        "\n",
        "plt.hist(samples, bins=30, density=True, alpha=0.7, edgecolor='black')\n",
        "plt.title(\"Normal Distribution Histogram\")\n",
        "plt.xlabel(\"Value\")\n",
        "plt.ylabel(\"Density\")\n",
        "plt.grid(True)\n",
        "plt.show()\n"
      ],
      "metadata": {
        "id": "sOboutFHv7HY"
      },
      "execution_count": null,
      "outputs": []
    },
    {
      "cell_type": "markdown",
      "source": [
        "9. Calculate and plot Z-score"
      ],
      "metadata": {
        "id": "4K5alXxTwAyR"
      }
    },
    {
      "cell_type": "code",
      "source": [
        "from scipy.stats import zscore\n",
        "\n",
        "data = np.random.normal(loc=50, scale=10, size=100)\n",
        "z_scores = zscore(data)\n",
        "\n",
        "plt.plot(z_scores, marker='o', linestyle='None')\n",
        "plt.axhline(0, color='red', linestyle='--')\n",
        "plt.title(\"Z-scores of Data\")\n",
        "plt.xlabel(\"Index\")\n",
        "plt.ylabel(\"Z-score\")\n",
        "plt.grid(True)\n",
        "plt.show()\n"
      ],
      "metadata": {
        "id": "HM-VKMFFwLRu"
      },
      "execution_count": null,
      "outputs": []
    },
    {
      "cell_type": "markdown",
      "source": [
        "10.  Central Limit Theorem (CLT) simulation from a non-normal distribution"
      ],
      "metadata": {
        "id": "O_psT4sqwOOw"
      }
    },
    {
      "cell_type": "code",
      "source": [
        "# Simulate CLT using an exponential distribution\n",
        "sample_means = []\n",
        "for _ in range(1000):\n",
        "    sample = np.random.exponential(scale=2.0, size=30)\n",
        "    sample_means.append(np.mean(sample))\n",
        "\n",
        "plt.hist(sample_means, bins=30, density=True, alpha=0.7, edgecolor='black')\n",
        "plt.title(\"Central Limit Theorem (Sample Means from Exponential Distribution)\")\n",
        "plt.xlabel(\"Sample Mean\")\n",
        "plt.ylabel(\"Density\")\n",
        "plt.grid(True)\n",
        "plt.show()\n"
      ],
      "metadata": {
        "id": "YP4Dj0_FwTP7"
      },
      "execution_count": null,
      "outputs": []
    },
    {
      "cell_type": "markdown",
      "source": [
        "11. Simulate multiple samples from a normal distribution to verify CLT"
      ],
      "metadata": {
        "id": "x85f_xg4wecK"
      }
    },
    {
      "cell_type": "code",
      "source": [
        "import numpy as np\n",
        "import matplotlib.pyplot as plt\n",
        "\n",
        "means = []\n",
        "for _ in range(1000):\n",
        "    sample = np.random.normal(loc=5, scale=2, size=30)\n",
        "    means.append(np.mean(sample))\n",
        "\n",
        "plt.hist(means, bins=30, density=True, edgecolor='black')\n",
        "plt.title(\"Central Limit Theorem Verification\")\n",
        "plt.xlabel(\"Sample Means\")\n",
        "plt.ylabel(\"Density\")\n",
        "plt.grid(True)\n",
        "plt.show()\n"
      ],
      "metadata": {
        "id": "vqvERRrowtbQ"
      },
      "execution_count": null,
      "outputs": []
    },
    {
      "cell_type": "markdown",
      "source": [
        "12.  Plot the standard normal distribution"
      ],
      "metadata": {
        "id": "tk4xV73Twx-l"
      }
    },
    {
      "cell_type": "code",
      "source": [
        "from scipy.stats import norm\n",
        "\n",
        "x = np.linspace(-4, 4, 1000)\n",
        "pdf = norm.pdf(x, loc=0, scale=1)\n",
        "\n",
        "plt.plot(x, pdf)\n",
        "plt.title(\"Standard Normal Distribution (μ=0, σ=1)\")\n",
        "plt.xlabel(\"Z-score\")\n",
        "plt.ylabel(\"Density\")\n",
        "plt.grid(True)\n",
        "plt.show()\n"
      ],
      "metadata": {
        "id": "cS778JTTw3_6"
      },
      "execution_count": null,
      "outputs": []
    },
    {
      "cell_type": "markdown",
      "source": [
        "13. Calculate probabilities using the binomial distribution"
      ],
      "metadata": {
        "id": "twS0vEcIw7Ze"
      }
    },
    {
      "cell_type": "code",
      "source": [
        "from scipy.stats import binom\n",
        "\n",
        "n, p = 10, 0.5\n",
        "x = np.arange(0, n+1)\n",
        "pmf = binom.pmf(x, n, p)\n",
        "\n",
        "for i in range(len(x)):\n",
        "    print(f\"P(X={x[i]}) = {pmf[i]:.4f}\")\n"
      ],
      "metadata": {
        "id": "0BleeXhDxZDx"
      },
      "execution_count": null,
      "outputs": []
    },
    {
      "cell_type": "markdown",
      "source": [
        "14. Calculate Z-score and compare to standard normal"
      ],
      "metadata": {
        "id": "37G_td5Qxa54"
      }
    },
    {
      "cell_type": "code",
      "source": [
        "value = 75\n",
        "mean = 70\n",
        "std_dev = 10\n",
        "\n",
        "z = (value - mean) / std_dev\n",
        "print(f\"Z-score: {z:.2f}\")\n",
        "\n",
        "# Probability to the left of the Z-score\n",
        "prob = norm.cdf(z)\n",
        "print(f\"P(X ≤ {value}) = {prob:.4f}\")\n"
      ],
      "metadata": {
        "id": "D8GZ0WnSxwdD"
      },
      "execution_count": null,
      "outputs": []
    },
    {
      "cell_type": "markdown",
      "source": [
        "15. Hypothesis testing using Z-statistics"
      ],
      "metadata": {
        "id": "NcRt-4nKyFJx"
      }
    },
    {
      "cell_type": "code",
      "source": [
        "# H0: μ = 100, H1: μ ≠ 100\n",
        "sample = np.random.normal(105, 10, 30)\n",
        "sample_mean = np.mean(sample)\n",
        "population_mean = 100\n",
        "std_dev = 10\n",
        "n = len(sample)\n",
        "\n",
        "z = (sample_mean - population_mean) / (std_dev / np.sqrt(n))\n",
        "p_value = 2 * (1 - norm.cdf(abs(z)))\n",
        "\n",
        "print(f\"Z = {z:.3f}, p-value = {p_value:.4f}\")\n"
      ],
      "metadata": {
        "id": "sYfNkSMqyKrB"
      },
      "execution_count": null,
      "outputs": []
    },
    {
      "cell_type": "markdown",
      "source": [
        "16. Confidence interval for a dataset"
      ],
      "metadata": {
        "id": "ozHZZ5dDyotW"
      }
    },
    {
      "cell_type": "code",
      "source": [
        "from scipy.stats import norm\n",
        "\n",
        "data = np.random.normal(50, 8, 100)\n",
        "mean = np.mean(data)\n",
        "std_err = np.std(data, ddof=1) / np.sqrt(len(data))\n",
        "\n",
        "conf_int = norm.interval(0.95, loc=mean, scale=std_err)\n",
        "print(f\"95% Confidence Interval: {conf_int}\")\n"
      ],
      "metadata": {
        "id": "_fpZMkP-ytFA"
      },
      "execution_count": null,
      "outputs": []
    },
    {
      "cell_type": "markdown",
      "source": [
        "17. CI from normal data and interpretation"
      ],
      "metadata": {
        "id": "NfSkLtHvywTJ"
      }
    },
    {
      "cell_type": "code",
      "source": [
        "data = np.random.normal(70, 12, 60)\n",
        "mean = np.mean(data)\n",
        "std_err = np.std(data, ddof=1) / np.sqrt(len(data))\n",
        "\n",
        "ci = norm.interval(0.95, loc=mean, scale=std_err)\n",
        "print(f\"95% CI for the mean: {ci}\")\n"
      ],
      "metadata": {
        "id": "ADSEKXnyy2Gq"
      },
      "execution_count": null,
      "outputs": []
    },
    {
      "cell_type": "markdown",
      "source": [
        "18. Visualize the PDF of a normal distribution"
      ],
      "metadata": {
        "id": "jMNeYw74y6mC"
      }
    },
    {
      "cell_type": "code",
      "source": [
        "mu, sigma = 50, 10\n",
        "x = np.linspace(mu - 4*sigma, mu + 4*sigma, 1000)\n",
        "pdf = norm.pdf(x, mu, sigma)\n",
        "\n",
        "plt.plot(x, pdf)\n",
        "plt.title(\"Normal Distribution PDF\")\n",
        "plt.xlabel(\"x\")\n",
        "plt.ylabel(\"Density\")\n",
        "plt.grid(True)\n",
        "plt.show()\n"
      ],
      "metadata": {
        "id": "uoxV8vUdzAKE"
      },
      "execution_count": null,
      "outputs": []
    },
    {
      "cell_type": "markdown",
      "source": [
        "19.  CDF of a Poisson distribution"
      ],
      "metadata": {
        "id": "EVPcYAcIzH4e"
      }
    },
    {
      "cell_type": "code",
      "source": [
        "from scipy.stats import poisson\n",
        "\n",
        "mu = 4\n",
        "x = np.arange(0, 15)\n",
        "cdf = poisson.cdf(x, mu)\n",
        "\n",
        "plt.step(x, cdf, where='mid')\n",
        "plt.title(\"Poisson CDF (μ=4)\")\n",
        "plt.xlabel(\"x\")\n",
        "plt.ylabel(\"Cumulative Probability\")\n",
        "plt.grid(True)\n",
        "plt.show()\n"
      ],
      "metadata": {
        "id": "r9SxsUFgzdQa"
      },
      "execution_count": null,
      "outputs": []
    },
    {
      "cell_type": "markdown",
      "source": [
        "20. Continuous uniform variable and expected value"
      ],
      "metadata": {
        "id": "Zn_qDbSFzgVi"
      }
    },
    {
      "cell_type": "code",
      "source": [
        "from scipy.stats import uniform\n",
        "\n",
        "a, b = 5, 15\n",
        "samples = uniform.rvs(loc=a, scale=b-a, size=1000)\n",
        "expected = np.mean(samples)\n",
        "\n",
        "print(f\"Expected value from simulation: {expected:.2f}\")\n"
      ],
      "metadata": {
        "id": "b7aDi1Khzkqn"
      },
      "execution_count": null,
      "outputs": []
    },
    {
      "cell_type": "markdown",
      "source": [
        "21. Compare standard deviations and visualize"
      ],
      "metadata": {
        "id": "9kUeUvWGzoT4"
      }
    },
    {
      "cell_type": "code",
      "source": [
        "data1 = np.random.normal(50, 5, 100)\n",
        "data2 = np.random.normal(50, 15, 100)\n",
        "\n",
        "std1 = np.std(data1)\n",
        "std2 = np.std(data2)\n",
        "\n",
        "plt.boxplot([data1, data2], labels=[\"Low SD\", \"High SD\"])\n",
        "plt.title(\"Comparison of Standard Deviations\")\n",
        "plt.ylabel(\"Values\")\n",
        "plt.grid(True)\n",
        "plt.show()\n",
        "\n",
        "print(f\"Standard Deviation 1: {std1:.2f}, Standard Deviation 2: {std2:.2f}\")\n"
      ],
      "metadata": {
        "id": "t1pohmCfzvnD"
      },
      "execution_count": null,
      "outputs": []
    },
    {
      "cell_type": "markdown",
      "source": [
        " 22. Range and IQR of normal data"
      ],
      "metadata": {
        "id": "GbaMqfCn0XE-"
      }
    },
    {
      "cell_type": "code",
      "source": [
        "data = np.random.normal(100, 20, 1000)\n",
        "\n",
        "data_range = np.max(data) - np.min(data)\n",
        "q1, q3 = np.percentile(data, [25, 75])\n",
        "iqr = q3 - q1\n",
        "\n",
        "print(f\"Range: {data_range:.2f}\")\n",
        "print(f\"IQR: {iqr:.2f}\")\n"
      ],
      "metadata": {
        "id": "UA9-8PPF0enX"
      },
      "execution_count": null,
      "outputs": []
    },
    {
      "cell_type": "markdown",
      "source": [
        "23. Z-score normalization and plot"
      ],
      "metadata": {
        "id": "FUQ7aVDJ0ibC"
      }
    },
    {
      "cell_type": "code",
      "source": [
        "data = np.random.normal(60, 10, 100)\n",
        "z_scores = zscore(data)\n",
        "\n",
        "plt.plot(data, label=\"Original\")\n",
        "plt.plot(z_scores, label=\"Z-score Normalized\")\n",
        "plt.legend()\n",
        "plt.title(\"Z-score Normalization\")\n",
        "plt.grid(True)\n",
        "plt.show()\n"
      ],
      "metadata": {
        "id": "RH0SFbNe0pum"
      },
      "execution_count": null,
      "outputs": []
    },
    {
      "cell_type": "markdown",
      "source": [
        "24.  Skewness and kurtosis of normal data"
      ],
      "metadata": {
        "id": "5da5pAU60tE6"
      }
    },
    {
      "cell_type": "code",
      "source": [
        "from scipy.stats import skew, kurtosis\n",
        "\n",
        "data = np.random.normal(0, 1, 1000)\n",
        "\n",
        "print(f\"Skewness: {skew(data):.2f}\")\n",
        "print(f\"Kurtosis: {kurtosis(data):.2f}\")  # excess kurtosis (normal = 0)\n"
      ],
      "metadata": {
        "id": "LpgxAcEO0yja"
      },
      "execution_count": null,
      "outputs": []
    }
  ]
}